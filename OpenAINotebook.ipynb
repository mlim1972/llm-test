{
 "cells": [
  {
   "cell_type": "code",
   "execution_count": 1,
   "metadata": {},
   "outputs": [
    {
     "data": {
      "text/plain": [
       "True"
      ]
     },
     "execution_count": 1,
     "metadata": {},
     "output_type": "execute_result"
    }
   ],
   "source": [
    "from openai import OpenAI\n",
    "from dotenv import load_dotenv\n",
    "import os\n",
    "\n",
    "load_dotenv(override=True)"
   ]
  },
  {
   "cell_type": "code",
   "execution_count": 2,
   "metadata": {},
   "outputs": [],
   "source": [
    "###### Ollama ######\n",
    "host = \"http://localhost:11434/v1\"\n",
    "api_key = 'ollama'\n",
    "model = \"llama3:8b-instruct-q8_0\"\n",
    "\n",
    "###### NVIDIA ######\n",
    "# host = \"https://integrate.api.nvidia.com/v1\"\n",
    "# api_key = os.getenv(\"NVIDIA_API_KEY\")\n",
    "# model = \"meta/llama3-70b-instruct\"\n",
    "# model = \"snowflake/arctic\"\n",
    "\n",
    "# host = 'https://api.groq.com/openai/v1'\n",
    "# api_key = os.getenv(\"GROQ_API_KEY\")\n",
    "# model = \"llama3-8b-8192\"\n",
    "\n"
   ]
  },
  {
   "cell_type": "code",
   "execution_count": 3,
   "metadata": {},
   "outputs": [],
   "source": [
    "client = OpenAI(\n",
    "  base_url = host,\n",
    "  api_key = api_key\n",
    ")\n"
   ]
  },
  {
   "cell_type": "code",
   "execution_count": 4,
   "metadata": {},
   "outputs": [
    {
     "name": "stdout",
     "output_type": "stream",
     "text": [
      "Time travel, a staple of science fiction and a fascinating concept that has captured the imagination of many. While we have no definitive evidence of time travel being possible, there are some theoretical frameworks and scientific concepts that suggest it might be feasible under certain conditions.\n",
      "\n",
      "**Theories:**\n",
      "\n",
      "1. **Albert Einstein's Theory of General Relativity**: In 1915, Einstein introduced his theory of general relativity, which describes gravity as the curvature of spacetime caused by massive objects. According to this theory, it is possible to create closed timelike curves (CTCs), which could allow for time travel.\n",
      "2. **Wormholes**: Wormholes are hypothetical shortcuts through spacetime that could potentially connect two distant points in space and time. If a wormhole were stable and traversable, it could be used for time travel.\n",
      "3. **Quantum Mechanics**: Quantum mechanics suggests that particles can tunnel through spacetime, which has led some scientists to propose the idea of quantum teleportation or \"quantum entanglement\" as a means of transmitting information through time.\n",
      "\n",
      "**Scientific concepts:**\n",
      "\n",
      "1. **Black Holes**: Black holes are regions of spacetime where gravity is so strong that not even light can escape. Some theories suggest that black holes could be used for time travel, potentially allowing objects to emerge from the past.\n",
      "2. **Gravitational Waves**: Gravitational waves are ripples in spacetime caused by massive cosmic events, such as binary black hole mergers. The detection of gravitational waves has opened up new possibilities for studying the fabric of spacetime and potentially even manipulating it.\n",
      "\n",
      "**Challenges:**\n",
      "\n",
      "1. **Energy Requirements**: Creating a stable wormhole or manipulating spacetime to create a CTC would require enormous amounts of energy, far beyond our current technological capabilities.\n",
      "2. **Stability Issues**: Wormholes and CTCs are inherently unstable and prone to collapse or disruption by various factors, making them difficult to maintain.\n",
      "3. **Paradoxes**: Time travel raises complex paradoxes, such as the grandfather paradox, where a person goes back in time and kills their own grandfather before he has children, preventing their own birth.\n",
      "\n",
      "**Current status:**\n",
      "\n",
      "While some scientists continue to explore theoretical frameworks for time travel, there is no concrete evidence to support its feasibility. The laws of physics as we currently understand them do not allow for time travel, and any attempts to manipulate spacetime would require a fundamental rethinking of our understanding of the universe.\n",
      "\n",
      "In conclusion, while time travel remains purely theoretical, it continues to fascinate scientists and inspire scientific inquiry. If we were to discover a way to manipulate spacetime or create stable wormholes, it could potentially revolutionize our understanding of the universe and our place within it. However, for now, time travel remains firmly in the realm of science fiction."
     ]
    }
   ],
   "source": [
    "completion = client.chat.completions.create(\n",
    "  model=model,\n",
    "  messages=[{\"role\":\"user\",\"content\":\"Is time travel possible?\"}],\n",
    "  temperature=0.2,\n",
    "  top_p=1,\n",
    "  max_tokens=1024,\n",
    "  stream=True\n",
    ")\n",
    "\n",
    "for chunk in completion:\n",
    "  print(chunk.choices[0].delta.content or \"\", end=\"\")"
   ]
  },
  {
   "cell_type": "code",
   "execution_count": null,
   "metadata": {},
   "outputs": [],
   "source": []
  }
 ],
 "metadata": {
  "kernelspec": {
   "display_name": "llm-test",
   "language": "python",
   "name": "python3"
  },
  "language_info": {
   "codemirror_mode": {
    "name": "ipython",
    "version": 3
   },
   "file_extension": ".py",
   "mimetype": "text/x-python",
   "name": "python",
   "nbconvert_exporter": "python",
   "pygments_lexer": "ipython3",
   "version": "3.11.9"
  }
 },
 "nbformat": 4,
 "nbformat_minor": 2
}

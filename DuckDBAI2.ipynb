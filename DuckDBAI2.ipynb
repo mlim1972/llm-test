{
 "cells": [
  {
   "cell_type": "code",
   "execution_count": null,
   "metadata": {},
   "outputs": [],
   "source": [
    "import ollama\n",
    "import duckdb\n",
    "import os\n",
    "from duckdb_utils import generate_sql\n",
    "from langchain_community.llms import Ollama"
   ]
  },
  {
   "cell_type": "code",
   "execution_count": null,
   "metadata": {},
   "outputs": [],
   "source": [
    "file = 'salaries.db'\n",
    "file2 = 'salaries.db.wal'\n",
    "\n",
    "if os.path.exists(file):\n",
    "    os.remove(file)\n",
    "    os.remove(file2)\n",
    "\n",
    "# Instantiate a DuckDB connection\n",
    "connection = duckdb.connect('salaries.db')\n",
    "# delete table if it exists in duckdb\n",
    "connection.execute(\"DROP TABLE IF EXISTS salary\")\n",
    "# Read the CSV file\n",
    "connection.execute(\"CREATE TABLE salary AS SELECT * FROM read_csv('data/salaries.csv', AUTO_DETECT=TRUE)\")\n"
   ]
  },
  {
   "cell_type": "code",
   "execution_count": null,
   "metadata": {},
   "outputs": [],
   "source": [
    "questions = [\n",
    "            \"get average salary by experience level\",\n",
    "            \"Group average salary by job_title where company_location is US?\",\n",
    "            \"Average salary by job titles? Make sure the output is sorted in descending order.\",\n",
    "            \"Highest paid job title where company_location is US? Show the job title and the salary.\",\n",
    "            \"Top 10 highest paid job titles where company_locationin is US? Show the job titles and the salaries.\",\n",
    "            ]"
   ]
  },
  {
   "cell_type": "code",
   "execution_count": null,
   "metadata": {},
   "outputs": [],
   "source": [
    "# lang_llm = Ollama(model=\"mistral\")\n",
    "lang_llm = Ollama(model=\"duckdb-nsql:7b-q8_0\", temperature=0.1)\n",
    "\n",
    "# Using the ollama client directly from ollama package\n",
    "# llm = ollama\n",
    "\n",
    "# Using the ollama client from langchain_community package\n",
    "llm = lang_llm\n",
    "\n",
    "sql_query = []\n",
    "# get the query for each question\n",
    "for question in questions:\n",
    "    sql_query.append(generate_sql(question, connection, ollama))\n",
    "# loop through the queries and execute them together with the question\n",
    "for i in range(len(questions)):\n",
    "    print(f\"Question: {questions[i]} \\n\")\n",
    "    print(f\"Query: {sql_query[i]} \\n\")\n",
    "    print(connection.execute(sql_query[i]).fetchdf())\n",
    "    print(\"\\n\\n\")"
   ]
  },
  {
   "cell_type": "code",
   "execution_count": null,
   "metadata": {},
   "outputs": [],
   "source": [
    "connection.close()\n",
    "# remove salaries.db\n",
    "!rm salaries.db*"
   ]
  }
 ],
 "metadata": {
  "kernelspec": {
   "display_name": "pandasai",
   "language": "python",
   "name": "python3"
  },
  "language_info": {
   "codemirror_mode": {
    "name": "ipython",
    "version": 3
   },
   "file_extension": ".py",
   "mimetype": "text/x-python",
   "name": "python",
   "nbconvert_exporter": "python",
   "pygments_lexer": "ipython3",
   "version": "3.11.9"
  }
 },
 "nbformat": 4,
 "nbformat_minor": 2
}

{
 "cells": [
  {
   "cell_type": "code",
   "execution_count": null,
   "metadata": {},
   "outputs": [],
   "source": [
    "# pip install -r requirements.txt"
   ]
  },
  {
   "cell_type": "code",
   "execution_count": 1,
   "metadata": {},
   "outputs": [],
   "source": [
    "## Imports\n",
    "import os\n",
    "from dotenv import load_dotenv\n",
    "import pandas as pd"
   ]
  },
  {
   "cell_type": "code",
   "execution_count": 2,
   "metadata": {},
   "outputs": [
    {
     "data": {
      "text/plain": [
       "True"
      ]
     },
     "execution_count": 2,
     "metadata": {},
     "output_type": "execute_result"
    }
   ],
   "source": [
    "load_dotenv(override=True)"
   ]
  },
  {
   "cell_type": "code",
   "execution_count": 3,
   "metadata": {},
   "outputs": [
    {
     "data": {
      "text/html": [
       "<div>\n",
       "<style scoped>\n",
       "    .dataframe tbody tr th:only-of-type {\n",
       "        vertical-align: middle;\n",
       "    }\n",
       "\n",
       "    .dataframe tbody tr th {\n",
       "        vertical-align: top;\n",
       "    }\n",
       "\n",
       "    .dataframe thead th {\n",
       "        text-align: right;\n",
       "    }\n",
       "</style>\n",
       "<table border=\"1\" class=\"dataframe\">\n",
       "  <thead>\n",
       "    <tr style=\"text-align: right;\">\n",
       "      <th></th>\n",
       "      <th>work_year</th>\n",
       "      <th>experience_level</th>\n",
       "      <th>employment_type</th>\n",
       "      <th>job_title</th>\n",
       "      <th>salary</th>\n",
       "      <th>salary_currency</th>\n",
       "      <th>salary_in_usd</th>\n",
       "      <th>employee_residence</th>\n",
       "      <th>remote_ratio</th>\n",
       "      <th>company_location</th>\n",
       "      <th>company_size</th>\n",
       "    </tr>\n",
       "  </thead>\n",
       "  <tbody>\n",
       "    <tr>\n",
       "      <th>0</th>\n",
       "      <td>2023</td>\n",
       "      <td>SE</td>\n",
       "      <td>FT</td>\n",
       "      <td>Principal Data Scientist</td>\n",
       "      <td>80000</td>\n",
       "      <td>EUR</td>\n",
       "      <td>85847</td>\n",
       "      <td>ES</td>\n",
       "      <td>100</td>\n",
       "      <td>ES</td>\n",
       "      <td>L</td>\n",
       "    </tr>\n",
       "    <tr>\n",
       "      <th>1</th>\n",
       "      <td>2023</td>\n",
       "      <td>MI</td>\n",
       "      <td>CT</td>\n",
       "      <td>ML Engineer</td>\n",
       "      <td>30000</td>\n",
       "      <td>USD</td>\n",
       "      <td>30000</td>\n",
       "      <td>US</td>\n",
       "      <td>100</td>\n",
       "      <td>US</td>\n",
       "      <td>S</td>\n",
       "    </tr>\n",
       "    <tr>\n",
       "      <th>2</th>\n",
       "      <td>2023</td>\n",
       "      <td>MI</td>\n",
       "      <td>CT</td>\n",
       "      <td>ML Engineer</td>\n",
       "      <td>25500</td>\n",
       "      <td>USD</td>\n",
       "      <td>25500</td>\n",
       "      <td>US</td>\n",
       "      <td>100</td>\n",
       "      <td>US</td>\n",
       "      <td>S</td>\n",
       "    </tr>\n",
       "    <tr>\n",
       "      <th>3</th>\n",
       "      <td>2023</td>\n",
       "      <td>SE</td>\n",
       "      <td>FT</td>\n",
       "      <td>Data Scientist</td>\n",
       "      <td>175000</td>\n",
       "      <td>USD</td>\n",
       "      <td>175000</td>\n",
       "      <td>CA</td>\n",
       "      <td>100</td>\n",
       "      <td>CA</td>\n",
       "      <td>M</td>\n",
       "    </tr>\n",
       "    <tr>\n",
       "      <th>4</th>\n",
       "      <td>2023</td>\n",
       "      <td>SE</td>\n",
       "      <td>FT</td>\n",
       "      <td>Data Scientist</td>\n",
       "      <td>120000</td>\n",
       "      <td>USD</td>\n",
       "      <td>120000</td>\n",
       "      <td>CA</td>\n",
       "      <td>100</td>\n",
       "      <td>CA</td>\n",
       "      <td>M</td>\n",
       "    </tr>\n",
       "  </tbody>\n",
       "</table>\n",
       "</div>"
      ],
      "text/plain": [
       "   work_year experience_level employment_type                 job_title  \\\n",
       "0       2023               SE              FT  Principal Data Scientist   \n",
       "1       2023               MI              CT               ML Engineer   \n",
       "2       2023               MI              CT               ML Engineer   \n",
       "3       2023               SE              FT            Data Scientist   \n",
       "4       2023               SE              FT            Data Scientist   \n",
       "\n",
       "   salary salary_currency  salary_in_usd employee_residence  remote_ratio  \\\n",
       "0   80000             EUR          85847                 ES           100   \n",
       "1   30000             USD          30000                 US           100   \n",
       "2   25500             USD          25500                 US           100   \n",
       "3  175000             USD         175000                 CA           100   \n",
       "4  120000             USD         120000                 CA           100   \n",
       "\n",
       "  company_location company_size  \n",
       "0               ES            L  \n",
       "1               US            S  \n",
       "2               US            S  \n",
       "3               CA            M  \n",
       "4               CA            M  "
      ]
     },
     "execution_count": 3,
     "metadata": {},
     "output_type": "execute_result"
    }
   ],
   "source": [
    "data = pd.read_csv(\"data/salaries.csv\")\n",
    "data.head()"
   ]
  },
  {
   "cell_type": "code",
   "execution_count": 4,
   "metadata": {},
   "outputs": [],
   "source": [
    "###### OPENAI #####\n",
    "# from pandasai.llm.openai import OpenAI\n",
    "# llm = OpenAI(api_token=os.environ[\"OPENAI_API_KEY\"])\n",
    "##llm = OpenAI()\n",
    "\n",
    "\n",
    "###### OLLAMA #####\n",
    "# from pandasai.llm import LangchainLLM\n",
    "# from langchain_community.llms import Ollama\n",
    "# # lang_llm = Ollama(model=\"mistral\")\n",
    "# lang_llm = Ollama(model=\"openchat:7b-v3.5-0106-q5_K_M\")\n",
    "# # lang_llm = Ollama(model=\"starcoder2:15b-q5_K_M\")\n",
    "# # lang_llm = Ollama(model=\"calebfahlgren/natural-functions:Q5_K_M\")\n",
    "# llm = LangchainLLM(lang_llm)\n",
    "\n",
    "\n",
    "###### GROQ #####\n",
    "from pandasai.llm import LangchainLLM\n",
    "from langchain_groq.chat_models import ChatGroq\n",
    "groq_model = [\"mixtral-8x7b-32768\", \"llama2-70b-4096\"]\n",
    "lang_llm = ChatGroq(\n",
    "    temperature=0,\n",
    "    model_name=groq_model[1], \n",
    "    api_key = os.environ[\"GROQ_API_KEY\"])\n",
    "llm = LangchainLLM(lang_llm)\n",
    "\n",
    "\n",
    "###### ANTHROPIC #####\n",
    "# from pandasai.llm import LangchainLLM\n",
    "# from langchain_anthropic.chat_models import ChatAnthropic\n",
    "# lang_llm = ChatAnthropic(\n",
    "#     temperature=0,\n",
    "#     model_name=\"claude-3-opus-20240229\", \n",
    "#     anthropic_api_key = os.environ[\"ANTHROPIC_API_KEY\"])\n",
    "# llm = LangchainLLM(lang_llm)"
   ]
  },
  {
   "cell_type": "code",
   "execution_count": 5,
   "metadata": {},
   "outputs": [],
   "source": [
    "from pandasai import SmartDataframe\n",
    "df = SmartDataframe(data, config={\"llm\": llm, \"verbose\": False})"
   ]
  },
  {
   "cell_type": "code",
   "execution_count": 6,
   "metadata": {},
   "outputs": [
    {
     "name": "stdout",
     "output_type": "stream",
     "text": [
      "3755\n"
     ]
    }
   ],
   "source": [
    "response=df.chat(\"How many records are there?\")\n",
    "print(response)"
   ]
  },
  {
   "cell_type": "code",
   "execution_count": 7,
   "metadata": {},
   "outputs": [
    {
     "data": {
      "text/html": [
       "<div>\n",
       "<style scoped>\n",
       "    .dataframe tbody tr th:only-of-type {\n",
       "        vertical-align: middle;\n",
       "    }\n",
       "\n",
       "    .dataframe tbody tr th {\n",
       "        vertical-align: top;\n",
       "    }\n",
       "\n",
       "    .dataframe thead th {\n",
       "        text-align: right;\n",
       "    }\n",
       "</style>\n",
       "<table border=\"1\" class=\"dataframe\">\n",
       "  <thead>\n",
       "    <tr style=\"text-align: right;\">\n",
       "      <th></th>\n",
       "      <th>job_title</th>\n",
       "      <th>salary</th>\n",
       "    </tr>\n",
       "  </thead>\n",
       "  <tbody>\n",
       "    <tr>\n",
       "      <th>0</th>\n",
       "      <td>AI Developer</td>\n",
       "      <td>200000.000000</td>\n",
       "    </tr>\n",
       "    <tr>\n",
       "      <th>1</th>\n",
       "      <td>AI Scientist</td>\n",
       "      <td>113428.571429</td>\n",
       "    </tr>\n",
       "    <tr>\n",
       "      <th>2</th>\n",
       "      <td>Analytics Engineer</td>\n",
       "      <td>159024.347826</td>\n",
       "    </tr>\n",
       "    <tr>\n",
       "      <th>3</th>\n",
       "      <td>Applied Data Scientist</td>\n",
       "      <td>238000.000000</td>\n",
       "    </tr>\n",
       "    <tr>\n",
       "      <th>4</th>\n",
       "      <td>Applied Machine Learning Engineer</td>\n",
       "      <td>130000.000000</td>\n",
       "    </tr>\n",
       "    <tr>\n",
       "      <th>...</th>\n",
       "      <td>...</td>\n",
       "      <td>...</td>\n",
       "    </tr>\n",
       "    <tr>\n",
       "      <th>65</th>\n",
       "      <td>Principal Machine Learning Engineer</td>\n",
       "      <td>190000.000000</td>\n",
       "    </tr>\n",
       "    <tr>\n",
       "      <th>66</th>\n",
       "      <td>Product Data Analyst</td>\n",
       "      <td>120000.000000</td>\n",
       "    </tr>\n",
       "    <tr>\n",
       "      <th>67</th>\n",
       "      <td>Research Engineer</td>\n",
       "      <td>168156.580645</td>\n",
       "    </tr>\n",
       "    <tr>\n",
       "      <th>68</th>\n",
       "      <td>Research Scientist</td>\n",
       "      <td>179146.206897</td>\n",
       "    </tr>\n",
       "    <tr>\n",
       "      <th>69</th>\n",
       "      <td>Staff Data Scientist</td>\n",
       "      <td>105000.000000</td>\n",
       "    </tr>\n",
       "  </tbody>\n",
       "</table>\n",
       "<p>70 rows × 2 columns</p>\n",
       "</div>"
      ],
      "text/plain": [
       "                              job_title         salary\n",
       "0                          AI Developer  200000.000000\n",
       "1                          AI Scientist  113428.571429\n",
       "2                    Analytics Engineer  159024.347826\n",
       "3                Applied Data Scientist  238000.000000\n",
       "4     Applied Machine Learning Engineer  130000.000000\n",
       "..                                  ...            ...\n",
       "65  Principal Machine Learning Engineer  190000.000000\n",
       "66                 Product Data Analyst  120000.000000\n",
       "67                    Research Engineer  168156.580645\n",
       "68                   Research Scientist  179146.206897\n",
       "69                 Staff Data Scientist  105000.000000\n",
       "\n",
       "[70 rows x 2 columns]"
      ]
     },
     "execution_count": 7,
     "metadata": {},
     "output_type": "execute_result"
    },
    {
     "data": {
      "text/plain": [
       "<Figure size 1000x800 with 0 Axes>"
      ]
     },
     "metadata": {},
     "output_type": "display_data"
    }
   ],
   "source": [
    "df.chat('Group average salary by job_title where company_location is US?')\n"
   ]
  },
  {
   "cell_type": "code",
   "execution_count": 8,
   "metadata": {},
   "outputs": [
    {
     "name": "stdout",
     "output_type": "stream",
     "text": [
      "/Users/mlim/Projects/mlim1972/llm-test/exports/charts/temp_chart.png\n"
     ]
    }
   ],
   "source": [
    "response=df.chat('What is the average salary in usd by job titles? Make sure the output is sorted in descending order.')\n",
    "print(response)"
   ]
  },
  {
   "cell_type": "code",
   "execution_count": 9,
   "metadata": {},
   "outputs": [
    {
     "name": "stdout",
     "output_type": "stream",
     "text": [
      "Code Generated\n",
      "result = {'type': 'number', 'value': None}\n",
      "us_salary_df = dfs[0].loc[(dfs[0]['company_location'] == 'US') & dfs[0]['job_title'].notnull(), ['job_title', 'salary']]\n",
      "avg_salary_by_job_title = us_salary_df.groupby('job_title')['salary'].mean().reset_index()\n",
      "avg_salary_by_job_title = avg_salary_by_job_title.sort_values(by='salary', ascending=False)\n",
      "average_salary = avg_salary_by_job_title['salary'].sum() / len(avg_salary_by_job_title)\n",
      "result['value'] = average_salary\n",
      "plt.figure(figsize=(10, 6))\n",
      "plt.barh(avg_salary_by_job_title['job_title'], avg_salary_by_job_title['salary'], color='b', edgecolor='black')\n",
      "plt.xlabel('Average Salary (USD)')\n",
      "plt.title('Average Salary by Job Title in US')\n",
      "plt.savefig('/Users/mlim/Projects/mlim1972/llm-test/exports/charts/temp_chart.png')\n",
      "plt.close()\n",
      "result['type'] = 'plot'\n",
      "result['value'] = '/Users/mlim/Projects/mlim1972/llm-test/exports/charts/temp_chart.png'\n",
      "\n",
      "Code Executed\n",
      "result = {'type': 'number', 'value': None}\n",
      "us_salary_df = dfs[0].loc[(dfs[0]['company_location'] == 'US') & dfs[0]['job_title'].notnull(), ['job_title', 'salary']]\n",
      "avg_salary_by_job_title = us_salary_df.groupby('job_title')['salary'].mean().reset_index()\n",
      "avg_salary_by_job_title = avg_salary_by_job_title.sort_values(by='salary', ascending=False)\n",
      "average_salary = avg_salary_by_job_title['salary'].sum() / len(avg_salary_by_job_title)\n",
      "result['value'] = average_salary\n",
      "plt.figure(figsize=(10, 6))\n",
      "plt.barh(avg_salary_by_job_title['job_title'], avg_salary_by_job_title['salary'], color='b', edgecolor='black')\n",
      "plt.xlabel('Average Salary (USD)')\n",
      "plt.title('Average Salary by Job Title in US')\n",
      "plt.savefig('/Users/mlim/Projects/mlim1972/llm-test/exports/charts/temp_chart.png')\n",
      "plt.close()\n",
      "result['type'] = 'plot'\n",
      "result['value'] = '/Users/mlim/Projects/mlim1972/llm-test/exports/charts/temp_chart.png'\n",
      "\n"
     ]
    }
   ],
   "source": [
    "print(f\"Code Generated\\n{df.last_code_generated}\\n\")\n",
    "print(f\"Code Executed\\n{df.last_code_executed}\\n\")"
   ]
  },
  {
   "cell_type": "code",
   "execution_count": 10,
   "metadata": {},
   "outputs": [
    {
     "name": "stdout",
     "output_type": "stream",
     "text": [
      "/Users/mlim/Projects/mlim1972/llm-test/exports/charts/temp_chart.png\n"
     ]
    },
    {
     "data": {
      "image/png": "[encoded data removed]",
      "text/plain": [
       "<Figure size 1000x800 with 1 Axes>"
      ]
     },
     "metadata": {},
     "output_type": "display_data"
    }
   ],
   "source": [
    "response=df.chat('Plot a bar chart showing top 10 job titles, using different colors for each bar')\n",
    "print(response)"
   ]
  },
  {
   "cell_type": "code",
   "execution_count": 11,
   "metadata": {},
   "outputs": [
    {
     "name": "stdout",
     "output_type": "stream",
     "text": [
      "/Users/mlim/Projects/mlim1972/llm-test/exports/charts/temp_chart.png\n"
     ]
    }
   ],
   "source": [
    "response=df.chat('Plot a bar chart showing average salary by experience level')\n",
    "print(response)"
   ]
  },
  {
   "cell_type": "code",
   "execution_count": 12,
   "metadata": {},
   "outputs": [
    {
     "name": "stdout",
     "output_type": "stream",
     "text": [
      "/Users/mlim/Projects/mlim1972/llm-test/exports/charts/temp_chart.png\n"
     ]
    }
   ],
   "source": [
    "response=df.chat('Plot a pie chart showing the experience_level distribution')\n",
    "print(response)"
   ]
  }
 ],
 "metadata": {
  "kernelspec": {
   "display_name": "pandasai",
   "language": "python",
   "name": "python3"
  },
  "language_info": {
   "codemirror_mode": {
    "name": "ipython",
    "version": 3
   },
   "file_extension": ".py",
   "mimetype": "text/x-python",
   "name": "python",
   "nbconvert_exporter": "python",
   "pygments_lexer": "ipython3",
   "version": "3.11.8"
  }
 },
 "nbformat": 4,
 "nbformat_minor": 2
}

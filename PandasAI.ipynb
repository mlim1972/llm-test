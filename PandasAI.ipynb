{
 "cells": [
  {
   "cell_type": "code",
   "execution_count": null,
   "metadata": {},
   "outputs": [],
   "source": [
    "#!pip install -r requirements.txt"
   ]
  },
  {
   "cell_type": "code",
   "execution_count": null,
   "metadata": {},
   "outputs": [],
   "source": [
    "## Imports\n",
    "import os\n",
    "from dotenv import load_dotenv\n",
    "import pandas as pd"
   ]
  },
  {
   "cell_type": "code",
   "execution_count": null,
   "metadata": {},
   "outputs": [],
   "source": [
    "load_dotenv(override=True)\n",
    "\n",
    "# Remove the cache folder\n",
    "!rm -rf cache"
   ]
  },
  {
   "cell_type": "code",
   "execution_count": null,
   "metadata": {},
   "outputs": [],
   "source": [
    "data = pd.read_csv(\"data/salaries.csv\")\n",
    "data.head()"
   ]
  },
  {
   "cell_type": "code",
   "execution_count": null,
   "metadata": {},
   "outputs": [],
   "source": [
    "###### OPENAI #####\n",
    "# from pandasai.llm.openai import OpenAI\n",
    "# llm = OpenAI(api_token=os.environ[\"OPENAI_API_KEY\"])\n",
    "# #llm = OpenAI()\n",
    "\n",
    "\n",
    "###### OLLAMA #####\n",
    "from pandasai.llm import LangchainLLM\n",
    "from langchain_community.llms import Ollama\n",
    "# lang_llm = Ollama(model=\"mistral\")\n",
    "lang_llm = Ollama(model=\"adrienbrault/nous-hermes2theta-llama3-8b:q8_0\")\n",
    "llm = LangchainLLM(lang_llm)\n",
    "\n",
    "\n",
    "###### GROQ #####\n",
    "# from pandasai.llm import LangchainLLM\n",
    "# from langchain_groq.chat_models import ChatGroq\n",
    "# groq_model = [\"mixtral-8x7b-32768\", \"llama2-70b-4096\"]\n",
    "# lang_llm = ChatGroq(\n",
    "#     temperature=0,\n",
    "#     model_name=groq_model[1], \n",
    "#     api_key = os.environ[\"GROQ_API_KEY\"])\n",
    "# llm = LangchainLLM(lang_llm)\n",
    "\n",
    "\n",
    "###### ANTHROPIC #####\n",
    "# from pandasai.llm import LangchainLLM\n",
    "# from langchain_anthropic.chat_models import ChatAnthropic\n",
    "# lang_llm = ChatAnthropic(\n",
    "#     temperature=0,\n",
    "#     model_name=\"claude-3-opus-20240229\", \n",
    "#     anthropic_api_key = os.environ[\"ANTHROPIC_API_KEY\"])\n",
    "# llm = LangchainLLM(lang_llm)"
   ]
  },
  {
   "cell_type": "code",
   "execution_count": null,
   "metadata": {},
   "outputs": [],
   "source": [
    "from pandasai import Agent\n",
    "\n",
    "#agent = Agent(data, config={\"llm\": llm})\n",
    "agent = Agent(data)\n"
   ]
  },
  {
   "cell_type": "code",
   "execution_count": null,
   "metadata": {},
   "outputs": [],
   "source": [
    "agent.chat('How many records are there?')\n"
   ]
  },
  {
   "cell_type": "code",
   "execution_count": null,
   "metadata": {},
   "outputs": [],
   "source": [
    "agent.chat('Group average salary by job_title where company_location is US?')"
   ]
  },
  {
   "cell_type": "code",
   "execution_count": null,
   "metadata": {},
   "outputs": [],
   "source": [
    "agent.chat('What is the average salary by job titles? Make sure the output is sorted in descending order.')\n"
   ]
  },
  {
   "cell_type": "code",
   "execution_count": null,
   "metadata": {},
   "outputs": [],
   "source": [
    "print(f\"Code Generated\\n{agent.last_code_generated}\\n\")\n",
    "print(f\"Code Executed\\n{agent.last_code_executed}\\n\")"
   ]
  },
  {
   "cell_type": "code",
   "execution_count": null,
   "metadata": {},
   "outputs": [],
   "source": [
    "agent.chat('Plot a bar chart showing top 10 job titles, using different colors for each bar')"
   ]
  },
  {
   "cell_type": "code",
   "execution_count": null,
   "metadata": {},
   "outputs": [],
   "source": [
    "agent.chat('Plot a bar chart showing average salary by experience level')"
   ]
  },
  {
   "cell_type": "code",
   "execution_count": null,
   "metadata": {},
   "outputs": [],
   "source": [
    "agent.chat('Plot a pie chart showing the experience_level distribution')\n"
   ]
  }
 ],
 "metadata": {
  "kernelspec": {
   "display_name": "pandasai",
   "language": "python",
   "name": "python3"
  },
  "language_info": {
   "codemirror_mode": {
    "name": "ipython",
    "version": 3
   },
   "file_extension": ".py",
   "mimetype": "text/x-python",
   "name": "python",
   "nbconvert_exporter": "python",
   "pygments_lexer": "ipython3",
   "version": "3.11.9"
  }
 },
 "nbformat": 4,
 "nbformat_minor": 2
}

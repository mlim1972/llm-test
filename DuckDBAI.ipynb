{
 "cells": [
  {
   "cell_type": "code",
   "execution_count": null,
   "metadata": {},
   "outputs": [],
   "source": [
    "!CMAKE_ARGS=\"-DLLAMA_METAL=on\" pip install llama-cpp-python"
   ]
  },
  {
   "cell_type": "code",
   "execution_count": null,
   "metadata": {},
   "outputs": [],
   "source": [
    "import duckdb\n",
    "from wurlitzer import pipes\n",
    "from duckdb_utils import generate_sql\n",
    "from llama_cpp import Llama"
   ]
  },
  {
   "cell_type": "code",
   "execution_count": null,
   "metadata": {},
   "outputs": [],
   "source": [
    "# Load Model\n",
    "with pipes() as (out, err):\n",
    "    client = Llama(\n",
    "        model_path=\"DuckDB-NSQL-7B-v0.1-q8_0.gguf\",\n",
    "        n_ctx=2048,\n",
    "        verbose=False,\n",
    "    )"
   ]
  },
  {
   "cell_type": "code",
   "execution_count": null,
   "metadata": {},
   "outputs": [],
   "source": [
    "# if salaries.db exists, remove it\n",
    "!rm -f salaries.db*\n",
    "\n",
    "# Instantiate a DuckDB connection\n",
    "connection = duckdb.connect('salaries.db')\n",
    "# Read the CSV file\n",
    "connection.execute(\"CREATE TABLE salary AS SELECT * FROM read_csv('data/salaries.csv', AUTO_DETECT=TRUE)\")\n"
   ]
  },
  {
   "cell_type": "code",
   "execution_count": null,
   "metadata": {},
   "outputs": [],
   "source": [
    "questions = [\n",
    "            \"get average salary by experience level\",\n",
    "            \"Group average salary by job_title where company_location is US?\",\n",
    "            \"Average salary by job titles? Make sure the output is sorted in descending order.\",\n",
    "            \"Highest paid job title where company_location is US? Show the job title and the salary.\",\n",
    "            \"Top 10 highest paid job titles where company_locationin is US? Show the job titles and the salaries.\",\n",
    "            ]"
   ]
  },
  {
   "cell_type": "code",
   "execution_count": null,
   "metadata": {},
   "outputs": [],
   "source": [
    "#sql_query = generate_sql(question[4], connection, client)\n",
    "#connection.execute(sql_query).fetchdf()\n",
    "\n",
    "sql_query = []\n",
    "# get the query for each question\n",
    "for question in questions:\n",
    "    sql_query.append(generate_sql(question, connection, client))\n",
    "# loop through the queries and execute them together with the question\n",
    "for i in range(len(questions)):\n",
    "    print(questions[i])\n",
    "    print(connection.execute(sql_query[i]).fetchdf())\n",
    "    print(\"\\n\\n\")"
   ]
  },
  {
   "cell_type": "code",
   "execution_count": null,
   "metadata": {},
   "outputs": [],
   "source": [
    "connection.close()\n",
    "# remove salaries.db\n",
    "!rm salaries.db*"
   ]
  }
 ],
 "metadata": {
  "kernelspec": {
   "display_name": "pandasai",
   "language": "python",
   "name": "python3"
  },
  "language_info": {
   "codemirror_mode": {
    "name": "ipython",
    "version": 3
   },
   "file_extension": ".py",
   "mimetype": "text/x-python",
   "name": "python",
   "nbconvert_exporter": "python",
   "pygments_lexer": "ipython3",
   "version": "3.11.9"
  }
 },
 "nbformat": 4,
 "nbformat_minor": 2
}
